{
 "cells": [
  {
   "cell_type": "markdown",
   "metadata": {},
   "source": [
    "     _________   ___   __   _______   __________   ________   _______   ___    __   _______   _______   ______  \n",
    "    |___   ___| |   \\ |  | |       | |___    ___| |   __   | |       | |   \\  |  | |   _   | |   _   | |       | \n",
    "        | |     |    \\|  | |  _____|     |  |     |  |__|  | |  _____| |    \\ |  | |  | |  | |  | |  | |    _  | \n",
    "        | |     |        | | |_____      |  |     |   __   | | |_____  |     \\|  | |  | |  | |  | |  | |   |_| | \n",
    "        | |     |  |\\    | |_____  |     |  |     |  |  |  | |_____  | |  |\\     | |  |_|  | |  |_|  | |    ___| \n",
    "     ___| |___  |  | \\   |  _____| |     |  |     |  |  |  |  _____| | |  | \\    | |       | |       | |   |     \n",
    "    |_________| |__|  \\__| |_______|     |__|     |__|  |__| |_______| |__|  \\___| |_______| |_______| |___|     \n",
    "\n",
    "Dump a list of user's followers and accounts that they follow to Excel to create data for social network script development. \n",
    "\n",
    "Known limitations:\n",
    "- Gets up to 20,000 followers or following accounts per interaction. You can change this, if you're looking into particularly popular accounts... But it'll take forever to return the data! Realistically, the more you try to pull out of a single account, the more likely you'll get flagged for suspicious activity and your account could be locked, they could ban you IP, etc. Buyer beware - That's on you, if it happens. I rarely try to scrape accounts with more than 2,000 followers/following.\n",
    "- Does not get bio info, and a few other fields. That's a limitation due to the underlying library, \"Instagram Scraper\" (https://github.com/realsirjoe/instagram-scraper). I'm personally only half-satisfied with this; I do *NOT* trust that it's not somehow storing credentials, and it doesn't return all the data it purports to. \n",
    "- Only grabs public data, or private data if the account you're logged into has access to it.\n",
    "\n",
    "To Do:\n",
    "- Reassess the wait times, to ensure a long pause is occurring frequently enough. The Instagram-Scraper library's github has recommended limits\n",
    "- Companion scripts to visualize and do additional analysis on the exported excel docs. These include a network diagram in NetworkX, Venn Diagrams and Pie charts in Matplotlib, etc"
   ]
  },
  {
   "cell_type": "code",
   "execution_count": 2,
   "metadata": {
    "scrolled": false
   },
   "outputs": [
    {
     "name": "stdout",
     "output_type": "stream",
     "text": [
      "Setup complete!\n"
     ]
    }
   ],
   "source": [
    "\n",
    "\"\"\"\n",
    "Setup dependencies, define functions\n",
    "\n",
    "You need to create a sec.py doc in the same folder you have this notebook in, \n",
    "to store your Instagram username and password. If you fork this, add your sec file to gitignore, DON'T commit it!\n",
    "\"\"\"\n",
    "\n",
    "from igramscraper.instagram import Instagram\n",
    "from time import sleep\n",
    "# from . import sec # Depending on your IDE, you might need to import the Sec file this way\n",
    "import sec \n",
    "import re, random, os, time\n",
    "import pandas as pd\n",
    "\n",
    "def shortsleep():\n",
    "    sleepytime = random.randint(1, 20)\n",
    "    print(f\"\\tSleeping for {sleepytime} seconds...\")\n",
    "    time.sleep(sleepytime)\n",
    "\n",
    "def longsleep():\n",
    "    sleepytime = random.randint(20, 90)\n",
    "    print(f\"\\tSleeping for {sleepytime} seconds...\")\n",
    "    time.sleep(sleepytime)\n",
    "\n",
    "def buildOutput(response, username, option):\n",
    "    df1 = pd.DataFrame()\n",
    "    for user in response['accounts']:\n",
    "        x = re.split(\"\\n\", str(user))\n",
    "        acct = {\"Id\": x[2][4:],\n",
    "                \"Username\": x[3][10:],\n",
    "                \"Full Name\": x[4][11:],\n",
    "                \"Bio\": x[5][5:],\n",
    "                \"Profile Pic Url\": x[6][17:],\n",
    "                \"External url\": x[7][14:],\n",
    "                \"Number of published posts\": x[8][27:],\n",
    "                \"Number of followers\": x[9][21:],\n",
    "                \"Number of follows\": x[10][19:],\n",
    "                \"Is private\": x[11][12:],\n",
    "                \"Is verified\": x[12][13:]}\n",
    "        df1 = df1.append(other=acct, ignore_index=True)\n",
    "    df1 = df1.set_index(\"Username\")\n",
    "    df1 = df1.sort_index(ascending=True)\n",
    "    # print(df1)\n",
    "    df1.to_excel(f\"{username}_{option}.xlsx\")\n",
    "    del df1\n",
    "\n",
    "def getuser(username):\n",
    "    try:\n",
    "        print(f\"{username}\")\n",
    "        account = instagram.get_account(username)\n",
    "        try:\n",
    "            print(f\"\\tGetting followers...\")\n",
    "            response = instagram.get_followers(account.identifier, 20000, 100, delayed=True)  # Get 2000 followers of 'kevin', 100 a time with random delay between requests\n",
    "            option = \"followers\"\n",
    "            buildOutput(response, username, option)\n",
    "            \n",
    "            shortsleep()\n",
    "            \n",
    "            print(f\"\\tGetting following...\")\n",
    "            response = instagram.get_following(account.identifier, 20000, 100, delayed=True)\n",
    "            option = \"following\"\n",
    "            buildOutput(response, username, option)\n",
    "\n",
    "        except Exception as e:\n",
    "            print(f\"\\t{username} broke, moving along\")\n",
    "            print(e)\n",
    "            pass\n",
    "    except:\n",
    "        pass\n",
    "\n",
    "def getlist(listofpeople):\n",
    "    peepcount = 0\n",
    "    for peep in listofpeople:\n",
    "        peepcount += 1\n",
    "        print(f\"({peepcount}/{len(listofpeople)}) {time.strftime('%H%M %d%b%y')}\")\n",
    "        getuser(peep)\n",
    "        if peepcount % 5 ==0:\n",
    "            longsleep()\n",
    "        else:\n",
    "            shortsleep()\n",
    "print(\"Setup complete!\")"
   ]
  },
  {
   "cell_type": "code",
   "execution_count": null,
   "metadata": {},
   "outputs": [],
   "source": [
    "### This will log you into the account you supply credentials for\n",
    "### You only have to do this once per session; it should cache your \n",
    "### credentials locally to keep the session active for a set amount of time\n",
    "instagram = Instagram()\n",
    "instagram.with_credentials(sec.user, sec.pw, os.path.join(os.getcwd(), 'cache'))\n",
    "instagram.login(force=False,two_step_verificator=True)\n",
    "\n",
    "### You can add proxies and/or set your User Agent String to make your session more or less protected.\n",
    "### I run this with a VPN on, and get an email saying \"We saw you logged in from a strange device\" each time I run it\n",
    "### DO NOT RUN THIS REPEATEDLY DURING YOUR SESSION - It's a Jupyter Notebook so you can just repeatedly run the cells below\n",
    "\n",
    "sleep(2) # Delay to mimic user\n",
    "print(\"Logged in!\")"
   ]
  },
  {
   "cell_type": "code",
   "execution_count": null,
   "metadata": {},
   "outputs": [],
   "source": [
    "### Add usernames you wanna work on to this list\n",
    "peoplelist = []"
   ]
  },
  {
   "cell_type": "code",
   "execution_count": null,
   "metadata": {},
   "outputs": [],
   "source": [
    "getlist(peoplelist)"
   ]
  }
 ],
 "metadata": {
  "kernelspec": {
   "display_name": "Python 3",
   "language": "python",
   "name": "python3"
  },
  "language_info": {
   "codemirror_mode": {
    "name": "ipython",
    "version": 3
   },
   "file_extension": ".py",
   "mimetype": "text/x-python",
   "name": "python",
   "nbconvert_exporter": "python",
   "pygments_lexer": "ipython3",
   "version": "3.7.6"
  }
 },
 "nbformat": 4,
 "nbformat_minor": 4
}
